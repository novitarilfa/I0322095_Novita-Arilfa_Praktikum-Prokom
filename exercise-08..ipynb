{
 "cells": [
  {
   "cell_type": "code",
   "execution_count": 1,
   "metadata": {},
   "outputs": [
    {
     "name": "stdout",
     "output_type": "stream",
     "text": [
      "1 2 3 \n",
      "4 5 6 \n",
      "7 8 9 \n"
     ]
    }
   ],
   "source": [
    "#Buatlah sebuah fungsi untuk membuat matrix berdasarkan input dari user\n",
    "\n",
    "def create_matrix(baris,kolom):\n",
    "    matrix = []\n",
    "\n",
    "    #Tulis kode kamu disini\n",
    "    for i in range(baris):\n",
    "        row = []\n",
    "\n",
    "        for j in range(kolom):\n",
    "            elemen = int(input(f\"Masukkan elemen matriks[{i+1}][{j+1}]: \"))\n",
    "            row.append(elemen)\n",
    "        matrix.append(row)\n",
    "\n",
    "    return matrix\n",
    "\n",
    "baris = int(input('Masukkan Jumlah Baris:\\t'))\n",
    "kolom = int(input('Masukkan Jumlah Kolom:\\t'))\n",
    "\n",
    "matrix = create_matrix(baris,kolom)\n",
    "\n",
    "for i in range(baris):\n",
    "    for j in range(kolom):\n",
    "        print(matrix[i][j], end=\" \")\n",
    "    print()"
   ]
  },
  {
   "cell_type": "code",
   "execution_count": 2,
   "metadata": {},
   "outputs": [
    {
     "name": "stdout",
     "output_type": "stream",
     "text": [
      "2 3 \n",
      "1 2 \n",
      "determinan =  1.0\n"
     ]
    }
   ],
   "source": [
    "#Buatlah sebuah fungsi untuk mencari determinan matrix berdasarkan input matrix dari user\n",
    "\n",
    "import numpy as np\n",
    "\n",
    "def create_matrix(baris,kolom):\n",
    "    matrix = []\n",
    "\n",
    "    #Tulis kode kamu disini\n",
    "    for i in range(baris):\n",
    "        row = []\n",
    "\n",
    "        for j in range(kolom):\n",
    "            elemen = int(input(f\"Masukkan elemen matriks[{i+1}][{j+1}]: \"))\n",
    "            row.append(elemen)\n",
    "        matrix.append(row)\n",
    "\n",
    "    return matrix\n",
    "\n",
    "baris = int(input('Masukkan Jumlah Baris:\\t'))\n",
    "kolom = int(input('Masukkan Jumlah Kolom:\\t'))\n",
    "\n",
    "matrix = create_matrix(baris,kolom)\n",
    "\n",
    "for i in range(baris):\n",
    "    for j in range(kolom):\n",
    "        print(matrix[i][j], end=\" \")\n",
    "    print()\n",
    "\n",
    "determinan = np.linalg.det(matrix)\n",
    "print(\"determinan = \",determinan)"
   ]
  },
  {
   "cell_type": "code",
   "execution_count": 3,
   "metadata": {},
   "outputs": [
    {
     "name": "stdout",
     "output_type": "stream",
     "text": [
      "1 2 \n",
      "3 4 \n",
      "====\n",
      "5 6 \n",
      "7 8 \n",
      "hasil kali\n",
      "[[19 22]\n",
      " [43 50]]\n"
     ]
    }
   ],
   "source": [
    "#Buatlah fungsi untuk mengakalikan dua buah matrix berdasarkan input user menggunakan nested loop\n",
    "\n",
    "import numpy as np\n",
    "\n",
    "baris = int(input('Masukkan Jumlah Baris:\\t'))\n",
    "kolom = int(input('Masukkan Jumlah Kolom:\\t'))\n",
    "\n",
    "def create_matrix1(baris1,kolom1):\n",
    "    matrix1 = []\n",
    "\n",
    "    #Tulis kode kamu disini\n",
    "    for i in range(baris):\n",
    "        row1 = []\n",
    "\n",
    "        for j in range(kolom):\n",
    "            elemen1 = int(input(f\"Masukkan elemen matriks pertama [{i+1}][{j+1}]: \"))\n",
    "            row1.append(elemen1)\n",
    "        matrix1.append(row1)\n",
    "\n",
    "    return matrix1\n",
    "\n",
    "matrix1 = create_matrix1(baris,kolom)\n",
    "\n",
    "for i in range(baris):\n",
    "    for j in range(kolom):\n",
    "        print(matrix1[i][j], end=\" \")\n",
    "    print()\n",
    "\n",
    "print(\"====\")\n",
    "\n",
    "def create_matrix2(baris,kolom):\n",
    "    matrix2 = []\n",
    "\n",
    "    #Tulis kode kamu disini\n",
    "    for i in range(baris):\n",
    "        row2 = []\n",
    "\n",
    "        for j in range(kolom):\n",
    "            elemen2 = int(input(f\"Masukkan elemen matriks kedua [{i+1}][{j+1}]: \"))\n",
    "            row2.append(elemen2)\n",
    "        matrix2.append(row2)\n",
    "\n",
    "    return matrix2\n",
    "\n",
    "matrix2 = create_matrix1(baris,kolom)\n",
    "\n",
    "for i in range(baris):\n",
    "    for j in range(kolom):\n",
    "        print(matrix2[i][j], end=\" \")\n",
    "    print()\n",
    "\n",
    "hasil_kali = np.dot(matrix1,matrix2)\n",
    "print(\"hasil kali\")\n",
    "print(hasil_kali)"
   ]
  }
 ],
 "metadata": {
  "kernelspec": {
   "display_name": "Python 3",
   "language": "python",
   "name": "python3"
  },
  "language_info": {
   "codemirror_mode": {
    "name": "ipython",
    "version": 3
   },
   "file_extension": ".py",
   "mimetype": "text/x-python",
   "name": "python",
   "nbconvert_exporter": "python",
   "pygments_lexer": "ipython3",
   "version": "3.11.2"
  },
  "orig_nbformat": 4
 },
 "nbformat": 4,
 "nbformat_minor": 2
}
