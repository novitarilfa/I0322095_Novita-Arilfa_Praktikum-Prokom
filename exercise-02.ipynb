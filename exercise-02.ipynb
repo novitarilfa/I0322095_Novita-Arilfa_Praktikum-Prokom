{
 "cells": [
  {
   "cell_type": "code",
   "execution_count": 1,
   "metadata": {},
   "outputs": [
    {
     "name": "stdout",
     "output_type": "stream",
     "text": [
      "Novita Arilfa\n",
      "I0322095\n",
      "C\n"
     ]
    }
   ],
   "source": [
    "print(input(\"Nama: \"))\n",
    "print(input(\"NIM: \"))\n",
    "print(input(\"Kelas: \"))"
   ]
  },
  {
   "attachments": {},
   "cell_type": "markdown",
   "metadata": {},
   "source": [
    "## 1."
   ]
  },
  {
   "attachments": {},
   "cell_type": "markdown",
   "metadata": {},
   "source": [
    "buatlah program sederhana untuk:\n",
    "* **A** mencari massa jika diketahui nilai energi potensial, percepatan gravitasi, dan ketinggian benda! beserta rumus nya!\n",
    "* **B** mencari gaya apung jika diketahui massa jenis, tinggi, panjang, dan lebar benda serta percepatan gravitasi dan contohnya! beserta rumus nya!\n",
    "* **C** Tulis program Python untuk menghitung luas dari segi lima sama sisi!\n",
    "\n",
    "> *note* : rumus, contoh, dan nilai dari tiap variabel ditentukan oleh kalian sendiri dan gunakan satuan baku (SI) untuk menghitung nilai dari tiap variabel"
   ]
  },
  {
   "cell_type": "code",
   "execution_count": 28,
   "metadata": {},
   "outputs": [
    {
     "name": "stdout",
     "output_type": "stream",
     "text": [
      "m = EP  / g * h\n",
      "  = 100 / 10 * 5\n",
      "  = 2.0 kg\n"
     ]
    }
   ],
   "source": [
    "#A. Rumus mencari massa\n",
    "EP = 100\n",
    "g  = 10\n",
    "h  = 5\n",
    "\n",
    "m = EP / (g * h)\n",
    "\n",
    "print(f\"m = EP  / g * h\")\n",
    "print(f\"  = {EP} / {g} * {h}\")\n",
    "print(f\"  = {m} kg\")"
   ]
  },
  {
   "cell_type": "code",
   "execution_count": 23,
   "metadata": {},
   "outputs": [
    {
     "name": "stdout",
     "output_type": "stream",
     "text": [
      "V = p * l * t\n",
      "  = 2 * 5 * 3\n",
      "  = 30 m^3 \n",
      "\n",
      "F = ρ * g * V\n",
      "  = 1000 * 10 * 30\n",
      "  = 300000 N\n",
      "=================================================================================================================================================================\n",
      "Contoh Soal\n",
      "Sebuah benda sepenuhnya tercelup dalam air dengan massa jenis air adalah 1000 kg/m^3, tinggi benda 3 m, panjang benda 2 m, lebar benda 5 m, dan percepatan gravitasi 10 m/s^2. Berapa gaya apung yang dirasakan benda tersebut?\n",
      "\n",
      "Diketahui : \n",
      "ρ = 1000 kg/m^3\n",
      "t = 3 m\n",
      "p = 2 m\n",
      "l = 5 m\n",
      "g = 10 m/s^2\n",
      "\n",
      "Ditanyakan : \n",
      "Berapa besar gaya apung pada benda tersebut?\n",
      "\n",
      "Jawab : \n",
      "V = p * l * t\n",
      "  = 2 * 5 * 3\n",
      "  = 30 m^3\n",
      "\n",
      "F = ρ * g * V\n",
      "  = 1000 * 10 * 30\n",
      "  = 300000 N\n"
     ]
    }
   ],
   "source": [
    "#B. Rumus mencari gaya apung\n",
    "ρ = 1000 \n",
    "t = 3\n",
    "p = 2\n",
    "l = 5\n",
    "g = 10\n",
    "\n",
    "V = p * l * t\n",
    "F = ρ * g * V\n",
    "\n",
    "print(f\"V = p * l * t\")\n",
    "print(f\"  = {p} * {l} * {t}\")\n",
    "print(f\"  = {V} m^3 \")\n",
    "print()\n",
    "\n",
    "print(f\"F = ρ * g * V\")\n",
    "print(f\"  = {ρ} * {g} * {V}\")\n",
    "print(f\"  = {F} N\")\n",
    "print(f\"=================================================================================================================================================================\")\n",
    "\n",
    "#Contoh soal mencari gaya apung\n",
    "print(f\"Contoh Soal\")\n",
    "print(f\"Sebuah benda sepenuhnya tercelup dalam air dengan massa jenis air adalah 1000 kg/m^3, tinggi benda 3 m, panjang benda 2 m, lebar benda 5 m, dan percepatan gravitasi 10 m/s^2. Berapa gaya apung yang dirasakan benda tersebut?\")\n",
    "print()\n",
    "\n",
    "print(f\"Diketahui : \")\n",
    "print(f\"ρ = {ρ} kg/m^3\")\n",
    "print(f\"t = {t} m\")\n",
    "print(f\"p = {p} m\")\n",
    "print(f\"l = {l} m\")\n",
    "print(f\"g = {g} m/s^2\")\n",
    "print()\n",
    "\n",
    "print(f\"Ditanyakan : \")\n",
    "print(f\"Berapa besar gaya apung pada benda tersebut?\")\n",
    "print()\n",
    "\n",
    "print(f\"Jawab : \")\n",
    "print(f\"V = p * l * t\")\n",
    "print(f\"  = {p} * {l} * {t}\")\n",
    "print(f\"  = {V} m^3\")\n",
    "print()\n",
    "\n",
    "print(f\"F = ρ * g * V\")\n",
    "print(f\"  = {ρ} * {g} * {V}\")\n",
    "print(f\"  = {F} N\")"
   ]
  },
  {
   "cell_type": "code",
   "execution_count": 54,
   "metadata": {},
   "outputs": [
    {
     "name": "stdout",
     "output_type": "stream",
     "text": [
      "Hitunglah luas dari segilima sama sisi jika diketahui sisinya adalah 5 m\n",
      "\n",
      "Diketahui : \n",
      "s = 5 m\n",
      "\n",
      "Ditanyakan : \n",
      "Berapakah luas segilima sama sisi?\n",
      "\n",
      "Jawab : \n",
      "Luas = 1/4√(5(5+2√5))s^2\n",
      "     = 1/4√(5+2.23606797749979)7^2\n",
      "     = 1/4√(7.23606797749979)7^2\n",
      "     = 84.30339262885938 m^2\n"
     ]
    }
   ],
   "source": [
    "#C. Menghitung luas segilima sama sisi\n",
    "s = 7\n",
    "a = 5**0.5\n",
    "Luas = 1/4 * (5*(5+2*5**0.5))**0.5 * s**2\n",
    "\n",
    "print(f\"Hitunglah luas dari segilima sama sisi jika diketahui sisinya adalah 5 m\")\n",
    "print()\n",
    "\n",
    "print(f\"Diketahui : \")\n",
    "print(f\"s = 5 m\")\n",
    "print()\n",
    "\n",
    "print(f\"Ditanyakan : \")\n",
    "print(f\"Berapakah luas segilima sama sisi?\")\n",
    "print()\n",
    "\n",
    "print(f\"Jawab : \")\n",
    "print(f\"Luas = 1/4√(5(5+2√5))s^2\")\n",
    "print(f\"     = 1/4√(5+{a}){s}^2\")\n",
    "print(f\"     = 1/4√({5+a}){s}^2\")\n",
    "print(f\"     = {Luas} m^2\")"
   ]
  },
  {
   "attachments": {},
   "cell_type": "markdown",
   "metadata": {},
   "source": [
    "## 2."
   ]
  },
  {
   "attachments": {},
   "cell_type": "markdown",
   "metadata": {},
   "source": [
    "Taman bermain ANCOL memiliki berbagai wahana, salah satunya adalah bianglala. Harga tiket yang dijual berbeda tergantung dengan kategori nya. Harga tiket bagi orang dewasa atau yang berumur lebih dari 17 tahun adalah Rp 110.000 , harga tiket untuk anak-anak usia 6-16 tahun adalah Rp. 75.000 , sedangkan untuk usia dibawahnya tidak dikenakan biaya. Pada wahana bianglala sedang ada \"Promo RAMADHAN\" sebesar 20% bagi pembelian tiket lebih dari 2 pcs.\n",
    "\n",
    "Keluarga Anya Forger ingin menaiki wahana bianglala tersebut, Anya (usia 18 tahun) pergi bersama ayah dan ibunya beserta dua adiknya, Harry (usia 8 tahun) dan Taylor (usia 4 tahun). \n",
    "\n",
    "> Buatlah program sederhana untuk menghitung harga total dari pembelian tiket  oleh keluarga Anya dan harga tiket setelah mendapatkan diskon"
   ]
  },
  {
   "cell_type": "code",
   "execution_count": 7,
   "metadata": {},
   "outputs": [
    {
     "name": "stdout",
     "output_type": "stream",
     "text": [
      "kategori\n",
      ">17 tahun  = Ayah, Ibu, Anya Forger\n",
      "6-16 tahun = Harry\n",
      "<6 tahun   = Taylor\n",
      "\n",
      "Harga tiket\n",
      ">17 tahun  = 3 * 110000 = Rp.330000\n",
      "6-16 tahun = 1 * 75000  = Rp.75000\n",
      "<6 tahun   = 1 * 0      = Rp.0\n",
      "Total pembelian tiket keluarga Anya adalah Rp.405000\n",
      "\n",
      "Pembelian lebih dari 2pcs mendapatkan Promo Ramadhan dengan potongan 20%\n",
      "Potongan diskon = 405000 * 20%     = Rp.81000.0\n",
      "Setelah diskon  = 405000 - 81000.0 = Rp.324000.0\n",
      "\n",
      "Jadi total pembelian tiket yang harus dibayarkan keluarga Anya setelah diskon adalah Rp.324000.0\n"
     ]
    }
   ],
   "source": [
    "a = [\"Ayah\",\"Ibu\",\"Anya Forger\"]\n",
    "b = [\"Harry\"]\n",
    "c = [\"Taylor\"]\n",
    "\n",
    "harga_a = 110000 \n",
    "harga_b = 75000\n",
    "harga_c = 0\n",
    "\n",
    "tiket_a = len(a) * harga_a\n",
    "tiket_b = len(b) * harga_b\n",
    "tiket_c = len(c) * harga_c\n",
    "\n",
    "total = tiket_a + tiket_b + tiket_c\n",
    "\n",
    "diskon  = total * 20/100\n",
    "setelah = total - diskon\n",
    "\n",
    "print(f\"kategori\")\n",
    "print(f\">17 tahun  = Ayah, Ibu, Anya Forger\")\n",
    "print(f\"6-16 tahun = Harry\")\n",
    "print(f\"<6 tahun   = Taylor\")\n",
    "print()\n",
    "\n",
    "print(f\"Harga tiket\")\n",
    "print(f\">17 tahun  = {len(a)} * 110000 = Rp.{tiket_a}\")\n",
    "print(f\"6-16 tahun = {len(b)} * 75000  = Rp.{tiket_b}\")\n",
    "print(f\"<6 tahun   = {len(c)} * 0      = Rp.{tiket_c}\")\n",
    "print(f\"Total pembelian tiket keluarga Anya adalah Rp.{total}\")\n",
    "print()\n",
    "\n",
    "print(f\"Pembelian lebih dari 2pcs mendapatkan Promo Ramadhan dengan potongan 20%\")\n",
    "print(f\"Potongan diskon = {total} * 20%     = Rp.{diskon}\")\n",
    "print(f\"Setelah diskon  = {total} - {diskon} = Rp.{setelah}\")\n",
    "print()\n",
    "\n",
    "print(f\"Jadi total pembelian tiket yang harus dibayarkan keluarga Anya setelah diskon adalah Rp.{setelah}\")"
   ]
  },
  {
   "attachments": {},
   "cell_type": "markdown",
   "metadata": {},
   "source": [
    "## 3. "
   ]
  },
  {
   "attachments": {},
   "cell_type": "markdown",
   "metadata": {},
   "source": [
    "diberikan list aslab sebagai berikut:\n",
    "```python\n",
    "list_aslab = [\n",
    "    {\"nama\": \"Berlian Safri Prakoso\", \"nim\": \"I0320017\", \"kontak\": \"0858XXXXXXXX\"},\n",
    "    {\"nama\": \"Halidya Siti Hanifah\", \"nim\": \"I0320044\", \"kontak\": \"0878XXXXXXXX\"},\n",
    "    {\"nama\": \"Nurki Putra Mahardika\", \"nim\": \"I0320076\", \"kontak\": \"0877XXXXXXXX\"},\n",
    "    {\"nama\": \"Aji Manarul Aziz\", \"nim\": \"I0320119\", \"kontak\": \"0812XXXXXXXX\"},\n",
    "    {\"nama\": \"Alica Ayu Fitriani\", \"nim\": \"I0320121\", \"kontak\": \"0896XXXXXXXX\"},\n",
    "    {\"nama\": \"Dendy Halim Kusuma\", \"nim\": \"I0320125\", \"kontak\": \"0822XXXXXXXX\"}\n",
    "]\n",
    "```\n",
    "* **A** Tuliskan kode untuk mengakses informasi tentang \"nama\" dari semua aslab mulai dari index 1 sampai 5\n",
    "* **B** Tambahkan informasi berikut pada data aslab dan tampilkan hasilnya:\n",
    "```python\n",
    "    surel = [\"berlian@student.uns.ac.id\",\n",
    "          \"halidya@student.uns.ac.id\",\n",
    "          \"nurki@student.uns.ac.id\",\n",
    "          \"manarul@student.uns.ac.id\",\n",
    "          \"alica@student.uns.ac.id\",\n",
    "          \"dendy@student.uns.ac.id\"]\n",
    "```\n",
    "* **C** Hapus nilai pada kunci \"kontak\" pada list aslab dan tampilkan hasilnya\n",
    "> *note: kalian hanya boleh menggunakan key-value pair yang disebutkan di dalam teks, tanpa menggunakan informasi tambahan yang diambil pada list yang ada*"
   ]
  },
  {
   "cell_type": "code",
   "execution_count": 13,
   "metadata": {},
   "outputs": [
    {
     "name": "stdout",
     "output_type": "stream",
     "text": [
      "Halidya Siti Hanifah\n",
      "Nurki Putra Mahardika\n",
      "Aji Manarul Aziz\n",
      "Alica Ayu Fitriani\n",
      "Dendy Halim Kusuma\n"
     ]
    }
   ],
   "source": [
    "list_aslab = [\n",
    "    {\"nama\": \"Berlian Safri Prakoso\", \"nim\": \"I0320017\", \"kontak\": \"0858XXXXXXXX\"},\n",
    "    {\"nama\": \"Halidya Siti Hanifah\", \"nim\": \"I0320044\", \"kontak\": \"0878XXXXXXXX\"},\n",
    "    {\"nama\": \"Nurki Putra Mahardika\", \"nim\": \"I0320076\", \"kontak\": \"0877XXXXXXXX\"},\n",
    "    {\"nama\": \"Aji Manarul Aziz\", \"nim\": \"I0320119\", \"kontak\": \"0812XXXXXXXX\"},\n",
    "    {\"nama\": \"Alica Ayu Fitriani\", \"nim\": \"I0320121\", \"kontak\": \"0896XXXXXXXX\"},\n",
    "    {\"nama\": \"Dendy Halim Kusuma\", \"nim\": \"I0320125\", \"kontak\": \"0822XXXXXXXX\"}\n",
    "]\n",
    "\n",
    "surel = [\"berlian@student.uns.ac.id\",\n",
    "         \"halidya@student.uns.ac.id\",\n",
    "         \"nurki@student.uns.ac.id\",\n",
    "         \"manaru@student.uns.ac.id\",\n",
    "         \"alica@student.uns.ac.id\",\n",
    "         \"dendy@student.uns.ac.id\"]\n",
    "\n",
    "for a in range(1,len(list_aslab)):\n",
    "    print(list_aslab[a][\"nama\"])"
   ]
  },
  {
   "cell_type": "code",
   "execution_count": 14,
   "metadata": {},
   "outputs": [
    {
     "name": "stdout",
     "output_type": "stream",
     "text": [
      "[{'nama': 'Berlian Safri Prakoso', 'nim': 'I0320017', 'kontak': '0858XXXXXXXX', 'surel': 'berlian@student.uns.ac.id'}, {'nama': 'Halidya Siti Hanifah', 'nim': 'I0320044', 'kontak': '0878XXXXXXXX', 'surel': 'halidya@student.uns.ac.id'}, {'nama': 'Nurki Putra Mahardika', 'nim': 'I0320076', 'kontak': '0877XXXXXXXX', 'surel': 'nurki@student.uns.ac.id'}, {'nama': 'Aji Manarul Aziz', 'nim': 'I0320119', 'kontak': '0812XXXXXXXX', 'surel': 'manaru@student.uns.ac.id'}, {'nama': 'Alica Ayu Fitriani', 'nim': 'I0320121', 'kontak': '0896XXXXXXXX', 'surel': 'alica@student.uns.ac.id'}, {'nama': 'Dendy Halim Kusuma', 'nim': 'I0320125', 'kontak': '0822XXXXXXXX', 'surel': 'dendy@student.uns.ac.id'}]\n"
     ]
    }
   ],
   "source": [
    "a = 0\n",
    "while(a<len(list_aslab)):\n",
    "    list_aslab[a][\"surel\"] = surel[a]\n",
    "    a += 1\n",
    "print(list_aslab)"
   ]
  },
  {
   "cell_type": "code",
   "execution_count": 15,
   "metadata": {},
   "outputs": [
    {
     "name": "stdout",
     "output_type": "stream",
     "text": [
      "[{'nama': 'Berlian Safri Prakoso', 'nim': 'I0320017', 'surel': 'berlian@student.uns.ac.id'}, {'nama': 'Halidya Siti Hanifah', 'nim': 'I0320044', 'surel': 'halidya@student.uns.ac.id'}, {'nama': 'Nurki Putra Mahardika', 'nim': 'I0320076', 'surel': 'nurki@student.uns.ac.id'}, {'nama': 'Aji Manarul Aziz', 'nim': 'I0320119', 'surel': 'manaru@student.uns.ac.id'}, {'nama': 'Alica Ayu Fitriani', 'nim': 'I0320121', 'surel': 'alica@student.uns.ac.id'}, {'nama': 'Dendy Halim Kusuma', 'nim': 'I0320125', 'surel': 'dendy@student.uns.ac.id'}]\n"
     ]
    }
   ],
   "source": [
    "i = 0\n",
    "while(i<len(list_aslab)):\n",
    "    del list_aslab[i][\"kontak\"]\n",
    "    i += 1\n",
    "print(list_aslab)"
   ]
  }
 ],
 "metadata": {
  "kernelspec": {
   "display_name": "Python 3",
   "language": "python",
   "name": "python3"
  },
  "language_info": {
   "codemirror_mode": {
    "name": "ipython",
    "version": 3
   },
   "file_extension": ".py",
   "mimetype": "text/x-python",
   "name": "python",
   "nbconvert_exporter": "python",
   "pygments_lexer": "ipython3",
   "version": "3.11.2"
  },
  "orig_nbformat": 4,
  "vscode": {
   "interpreter": {
    "hash": "5addf786bcd861d1ce5006f23111f8cbb206731e5b61b0a5632ba9e0252558a8"
   }
  }
 },
 "nbformat": 4,
 "nbformat_minor": 2
}
