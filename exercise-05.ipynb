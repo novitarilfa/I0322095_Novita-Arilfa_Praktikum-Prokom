{
 "cells": [
  {
   "attachments": {},
   "cell_type": "markdown",
   "metadata": {},
   "source": [
    "1. Buatlah program untuk menghitung pangkat 2 dari angka 1 hingga 50!"
   ]
  },
  {
   "cell_type": "code",
   "execution_count": 167,
   "metadata": {},
   "outputs": [
    {
     "name": "stdout",
     "output_type": "stream",
     "text": [
      "1 kuadrat = 1\n",
      "2 kuadrat = 4\n",
      "3 kuadrat = 9\n",
      "4 kuadrat = 16\n",
      "5 kuadrat = 25\n",
      "6 kuadrat = 36\n",
      "7 kuadrat = 49\n",
      "8 kuadrat = 64\n",
      "9 kuadrat = 81\n",
      "10 kuadrat = 100\n",
      "11 kuadrat = 121\n",
      "12 kuadrat = 144\n",
      "13 kuadrat = 169\n",
      "14 kuadrat = 196\n",
      "15 kuadrat = 225\n",
      "16 kuadrat = 256\n",
      "17 kuadrat = 289\n",
      "18 kuadrat = 324\n",
      "19 kuadrat = 361\n",
      "20 kuadrat = 400\n",
      "21 kuadrat = 441\n",
      "22 kuadrat = 484\n",
      "23 kuadrat = 529\n",
      "24 kuadrat = 576\n",
      "25 kuadrat = 625\n",
      "26 kuadrat = 676\n",
      "27 kuadrat = 729\n",
      "28 kuadrat = 784\n",
      "29 kuadrat = 841\n",
      "30 kuadrat = 900\n",
      "31 kuadrat = 961\n",
      "32 kuadrat = 1024\n",
      "33 kuadrat = 1089\n",
      "34 kuadrat = 1156\n",
      "35 kuadrat = 1225\n",
      "36 kuadrat = 1296\n",
      "37 kuadrat = 1369\n",
      "38 kuadrat = 1444\n",
      "39 kuadrat = 1521\n",
      "40 kuadrat = 1600\n",
      "41 kuadrat = 1681\n",
      "42 kuadrat = 1764\n",
      "43 kuadrat = 1849\n",
      "44 kuadrat = 1936\n",
      "45 kuadrat = 2025\n",
      "46 kuadrat = 2116\n",
      "47 kuadrat = 2209\n",
      "48 kuadrat = 2304\n",
      "49 kuadrat = 2401\n",
      "50 kuadrat = 2500\n"
     ]
    }
   ],
   "source": [
    "# Kerjakan nomor 1 di sini\n",
    "for novita in range(0,50):\n",
    "    novita=novita+1\n",
    "    print(novita, \"kuadrat =\" , novita**2)"
   ]
  },
  {
   "attachments": {},
   "cell_type": "markdown",
   "metadata": {},
   "source": [
    "2. Buatlah sebuah list yang berisi daftar nama mahasiswa angkatan kalian minimal sejumlah 10 nama. Kemudian buat program pencarian menggunakan pengulangan, di mana apabila nama yang user inputkan sudah sesuai dengan isi list maka program akan berhenti dan menampilkan output \"Pencarian anda sudah berakhir\""
   ]
  },
  {
   "attachments": {},
   "cell_type": "markdown",
   "metadata": {},
   "source": [
    "catatan: perhatikan user dapat menginputkan menggunakan baik huruf kapital maupun tidak"
   ]
  },
  {
   "cell_type": "code",
   "execution_count": 168,
   "metadata": {},
   "outputs": [
    {
     "name": "stdout",
     "output_type": "stream",
     "text": [
      "Eli\n",
      "Ara\n",
      "Fiya\n",
      "Julie\n",
      "Mira\n",
      "Yalp\n",
      "Pencarian anda sudah berakhir\n"
     ]
    }
   ],
   "source": [
    "# Kerjakan nomor 2 di sini\n",
    "novita = [\"Eli\",\"Ara\",\"Fiya\",\"Julie\",\"Mira\",\"Yalp\",\"Mahar\",\"Nadya\",\"Zarla\",\"Muti\",\"Nala\",\"Novita\"]\n",
    "arilfa = input(\"Masukkan nama cewe kelas C yang ingin dicari :\")\n",
    "arilfa = arilfa.capitalize()\n",
    "\n",
    "for i in range(len(novita)):\n",
    "    \n",
    "    print(novita[i])\n",
    "    \n",
    "    if arilfa == novita[i]:\n",
    "        print(\"Pencarian anda sudah berakhir\")\n",
    "        break\n",
    "else:\n",
    "    print()\n",
    "    print(arilfa, \"bukan cewe kelas C\")  "
   ]
  },
  {
   "attachments": {},
   "cell_type": "markdown",
   "metadata": {},
   "source": [
    "3. Disajikan list sebagai berikut "
   ]
  },
  {
   "cell_type": "code",
   "execution_count": null,
   "metadata": {},
   "outputs": [],
   "source": [
    "bulan = ['januari', 'februari', 'maret', 'april','mei','juni','juli','agustus','september','oktober','november','desember']\n",
    "kota  = ['jakarta' , 'kuala lumpur', 'bangkok', 'seoul', 'canada','london','dubai','barcelona']"
   ]
  },
  {
   "attachments": {},
   "cell_type": "markdown",
   "metadata": {},
   "source": [
    "Robert adalah seorang penyanyi terkenal. Dia merencanakan konser world tour di tahun 2024 mendatang di berbagai negara. Dengan catatan pada bulan April dan Mei, Robert kembali ke indonesia untuk istirahat sejenak kemudian melanjutkan lagi konser. Berdasarkan kasus tersebut buatlah program pengulangannya!"
   ]
  },
  {
   "cell_type": "code",
   "execution_count": 276,
   "metadata": {},
   "outputs": [
    {
     "name": "stdout",
     "output_type": "stream",
     "text": [
      "Konser Robert pada bulan januari akan diadakan di kota jakarta\n",
      "Konser Robert pada bulan februari akan diadakan di kota kuala lumpur\n",
      "Konser Robert pada bulan maret akan diadakan di kota bangkok\n",
      "Robert kembali ke Indonesia untuk istirahat\n",
      "Robert kembali ke Indonesia untuk istirahat\n",
      "Konser Robert pada bulan juni akan diadakan di kota Iondon\n",
      "Konser Robert pada bulan juli akan diadakan di kota dubai\n",
      "Konser Robert pada bulan agustus akan diadakan di kota barcelona\n",
      "Konser Robert pada bulan september akan diadakan di kota jakarta\n",
      "Konser Robert pada bulan oktober akan diadakan di kota kuala lumpur\n",
      "Konser Robert pada bulan november akan diadakan di kota bangkok\n",
      "Konser Robert pada bulan desember akan diadakan di kota seoul\n"
     ]
    }
   ],
   "source": [
    "# kerjakan nomor 3 di sini\n",
    "bulan = ['januari', 'februari', 'maret', 'april', 'mei', 'juni', 'juli', 'agustus', 'september', 'oktober', 'november', 'desember']\n",
    "kota  = ['jakarta', 'kuala lumpur', 'bangkok', 'seoul', 'canada', 'Iondon', 'dubai', 'barcelona']\n",
    "\n",
    "for i in range(len(bulan)):\n",
    "    if bulan[i] == 'april' or bulan[i] == 'mei' :\n",
    "        print(\"Robert kembali ke Indonesia untuk istirahat\")\n",
    "    else:\n",
    "        print(f\"Konser Robert pada bulan {bulan[i]} akan diadakan di kota {kota[i % len(kota)]}\")"
   ]
  }
 ],
 "metadata": {
  "kernelspec": {
   "display_name": "Python 3",
   "language": "python",
   "name": "python3"
  },
  "language_info": {
   "codemirror_mode": {
    "name": "ipython",
    "version": 3
   },
   "file_extension": ".py",
   "mimetype": "text/x-python",
   "name": "python",
   "nbconvert_exporter": "python",
   "pygments_lexer": "ipython3",
   "version": "3.11.2"
  },
  "orig_nbformat": 4
 },
 "nbformat": 4,
 "nbformat_minor": 2
}
